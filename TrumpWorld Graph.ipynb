{
 "cells": [
  {
   "cell_type": "markdown",
   "metadata": {},
   "source": [
    "The investigative reporter team from Buzzfeed published source material on organizations and people related to Donald Trump.\n",
    "\n",
    "<!-- todo embed tweet? -->\n",
    "\n",
    "The group asked the public for help analysing, extending and reporting on the material.\n",
    "\n",
    "The data was published in this [google doc](https://docs.google.com/spreadsheets/d/1Z5Vo5pbvxKJ5XpfALZXvCzW26Cl4we3OaN73K9Ae5Ss/edit#gid=634968401).\n",
    "\n",
    "Each tab contained information on a pair of organizations or people and the type of connection as well as the source.\n",
    "\n",
    "<!-- todo embed gdoc? -->"
   ]
  },
  {
   "cell_type": "markdown",
   "metadata": {},
   "source": [
    "## Accessing the Data\n",
    "\n",
    "With the Neo4j Cypher query language, we can use the `LOAD CSV` clause to access tabular data to render, compute or integrate in the graph. As the google doc is publicly readable, we can download each tab as CSV or TSV and grab the **download URL** which we will use.\n",
    "\n",
    "In this notebook we will use the official `neo4j-python-driver` to talk to our local Neo4j instance."
   ]
  },
  {
   "cell_type": "code",
   "execution_count": 12,
   "metadata": {
    "collapsed": true
   },
   "outputs": [],
   "source": [
    "# !pip install neo4j-driver\n",
    "\n",
    "import os\n",
    "from neo4j.v1 import GraphDatabase, basic_auth\n",
    "\n",
    "from scripts.vis import draw_query\n",
    "options = {\"Person\": \"name\",\"Bank\": \"name\", \"Organization\": \"name\"}\n",
    "\n",
    "neo4jUrl = os.environ.get('NEO4J_URL',\"bolt://localhost\")\n",
    "neo4jUser = os.environ.get('NEO4J_USER',\"neo4j\")\n",
    "neo4jPass = os.environ.get('NEO4J_PASSWORD',\"test\")\n",
    "\n",
    "driver = GraphDatabase.driver(neo4jUrl, auth=basic_auth(neo4jUser, neo4jPass))\n",
    "\n",
    "session = driver.session()"
   ]
  },
  {
   "cell_type": "code",
   "execution_count": null,
   "metadata": {
    "collapsed": true
   },
   "outputs": [],
   "source": [
    "url = 'https://docs.google.com/spreadsheets/u/1/d/1Z5Vo5pbvxKJ5XpfALZXvCzW26Cl4we3OaN73K9Ae5Ss/export?format=tsv&id=1Z5Vo5pbvxKJ5XpfALZXvCzW26Cl4we3OaN73K9Ae5Ss'\n",
    "org_org_url = url + '&gid=634968401'\n",
    "person_org_url = url + '&gid=1368567920'\n",
    "person_person_url = url + '&gid=905294723'\n",
    "LOAD_CSV = \"LOAD CSV WITH HEADERS FROM {url} AS row FIELDTERMINATOR '\\t'\"\n",
    "\n",
    "result = session.run(LOAD_CSV + \" RETURN row limit 5\", url=org_org_url)\n",
    "for record in result:\n",
    "    print(record)"
   ]
  },
  {
   "cell_type": "code",
   "execution_count": null,
   "metadata": {
    "collapsed": true
   },
   "outputs": [],
   "source": [
    "import_org_org = LOAD_CSV + \"\"\"\n",
    "MERGE (o1:Organization {name:row.`Organization A`})\n",
    "MERGE (o2:Organization {name:row.`Organization B`})\n",
    "CREATE (o1)-[con:CONNECTED_TO]->(o2)\n",
    "SET con.connection=row.Connection, con.source=row.`Source(s)`\n",
    "\"\"\"\n",
    "print(session.run(import_org_org, url=org_org_url).consume().counters)"
   ]
  },
  {
   "cell_type": "code",
   "execution_count": null,
   "metadata": {
    "collapsed": true
   },
   "outputs": [],
   "source": [
    "import_person_org = LOAD_CSV + \"\"\"\n",
    "MERGE (p:Person {name:row.Person})\n",
    "MERGE (o:Organization {name:row.Organization})\n",
    "CREATE (p)-[con:INVOLVED_WITH]->(o)\n",
    "SET con.connection=row.Connection, con.source=row.`Source(s)`\n",
    "\"\"\"\n",
    "print(session.run(import_person_org, url=person_org_url).consume().counters)"
   ]
  },
  {
   "cell_type": "code",
   "execution_count": null,
   "metadata": {
    "collapsed": true
   },
   "outputs": [],
   "source": [
    "import_person_person = LOAD_CSV + \"\"\"\n",
    "MERGE (p1:Person {name:row.`Person A`})\n",
    "MERGE (p2:Person {name:row.`Person B`})\n",
    "CREATE (p2)-[con:RELATED_TO]->(p1)\n",
    "SET con.connection=row.Connection, con.source=row.`Source(s)`\n",
    "\"\"\"\n",
    "print(session.run(import_person_person, url=person_person_url).consume().counters)"
   ]
  },
  {
   "cell_type": "code",
   "execution_count": null,
   "metadata": {
    "collapsed": true
   },
   "outputs": [],
   "source": [
    "stats = \"\"\"\n",
    "MATCH (o:Organization)-[r]-()\n",
    "RETURN o.name as name,type(r) as type, count(*) as degree\n",
    "\"\"\"\n",
    "session.run(stats)"
   ]
  },
  {
   "cell_type": "code",
   "execution_count": 13,
   "metadata": {
    "collapsed": false
   },
   "outputs": [
    {
     "data": {
      "text/html": [
       "\n",
       "        <iframe\n",
       "            width=\"100%\"\n",
       "            height=\"400\"\n",
       "            src=\"figure/graph-0ec12842-0851-46ec-8ea7-7483dfc674f2.html\"\n",
       "            frameborder=\"0\"\n",
       "            allowfullscreen\n",
       "        ></iframe>\n",
       "        "
      ],
      "text/plain": [
       "<IPython.lib.display.IFrame at 0x112434850>"
      ]
     },
     "execution_count": 13,
     "metadata": {},
     "output_type": "execute_result"
    }
   ],
   "source": [
    "banks = \"\"\"\n",
    "MATCH (bank:Organization)-[r]-(other) \n",
    "WHERE bank.name CONTAINS 'BANK' \n",
    "RETURN bank,r,other\n",
    "\"\"\"\n",
    "draw_query(session, banks, options)"
   ]
  },
  {
   "cell_type": "code",
   "execution_count": 8,
   "metadata": {
    "collapsed": false
   },
   "outputs": [
    {
     "data": {
      "text/html": [
       "\n",
       "        <iframe\n",
       "            width=\"100%\"\n",
       "            height=\"400\"\n",
       "            src=\"figure/graph-5576a41e-222d-482d-9862-346db9259ec5.html\"\n",
       "            frameborder=\"0\"\n",
       "            allowfullscreen\n",
       "        ></iframe>\n",
       "        "
      ],
      "text/plain": [
       "<IPython.lib.display.IFrame at 0x1128214d0>"
      ]
     },
     "execution_count": 8,
     "metadata": {},
     "output_type": "execute_result"
    }
   ],
   "source": [
    "draw_query(session, \"MATCH (p:Person {name:'REX TILLERSON'})-[r]-(other) RETURN p,r,other LIMIT 25\", options)"
   ]
  },
  {
   "cell_type": "code",
   "execution_count": null,
   "metadata": {
    "collapsed": true
   },
   "outputs": [],
   "source": []
  }
 ],
 "metadata": {
  "kernelspec": {
   "display_name": "Python 2",
   "language": "python",
   "name": "python2"
  },
  "language_info": {
   "codemirror_mode": {
    "name": "ipython",
    "version": 2
   },
   "file_extension": ".py",
   "mimetype": "text/x-python",
   "name": "python",
   "nbconvert_exporter": "python",
   "pygments_lexer": "ipython2",
   "version": "2.7.10"
  }
 },
 "nbformat": 4,
 "nbformat_minor": 2
}
